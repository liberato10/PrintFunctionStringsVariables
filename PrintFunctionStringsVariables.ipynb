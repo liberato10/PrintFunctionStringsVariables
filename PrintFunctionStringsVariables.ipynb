{
  "nbformat": 4,
  "nbformat_minor": 0,
  "metadata": {
    "colab": {
      "name": "PrintFunctionStringsVariables.ipynb",
      "provenance": [],
      "toc_visible": true,
      "authorship_tag": "ABX9TyP++h8QtRJDgC8uXHdioxRY",
      "include_colab_link": true
    },
    "kernelspec": {
      "name": "python3",
      "display_name": "Python 3"
    },
    "language_info": {
      "name": "python"
    }
  },
  "cells": [
    {
      "cell_type": "markdown",
      "metadata": {
        "id": "view-in-github",
        "colab_type": "text"
      },
      "source": [
        "<a href=\"https://colab.research.google.com/github/liberato10/PrintFunctionStringsVariables/blob/main/PrintFunctionStringsVariables.ipynb\" target=\"_parent\"><img src=\"https://colab.research.google.com/assets/colab-badge.svg\" alt=\"Open In Colab\"/></a>"
      ]
    },
    {
      "cell_type": "markdown",
      "source": [
        "STRINGS AND VARIABLES"
      ],
      "metadata": {
        "id": "r--2xjVIwucx"
      }
    },
    {
      "cell_type": "code",
      "source": [
        "variable = (\"Hello World\")\n",
        "print(variable)"
      ],
      "metadata": {
        "colab": {
          "base_uri": "https://localhost:8080/"
        },
        "id": "qLqivWqisVtk",
        "outputId": "1599755c-c87b-4f4f-d2c3-202882f482bd"
      },
      "execution_count": null,
      "outputs": [
        {
          "output_type": "stream",
          "name": "stdout",
          "text": [
            "Hello World\n"
          ]
        }
      ]
    },
    {
      "cell_type": "code",
      "source": [
        "name  = \"LIBERATO DIANNE C\"\n",
        "print(name)"
      ],
      "metadata": {
        "colab": {
          "base_uri": "https://localhost:8080/"
        },
        "id": "_OomZMAYs5wR",
        "outputId": "06cf0028-b337-4f2d-ae5e-fffc8dfcb777"
      },
      "execution_count": null,
      "outputs": [
        {
          "output_type": "stream",
          "name": "stdout",
          "text": [
            "LIBERATO DIANNE C\n"
          ]
        }
      ]
    },
    {
      "cell_type": "code",
      "source": [
        "popularLyric  = \"\"\"Blackbird singing in the dead of night\n",
        "Take these broken wings and learn to fly\n",
        "All your life\n",
        "You were only waiting for this moment to arise\"\"\"\n",
        "print(popularLyric)"
      ],
      "metadata": {
        "colab": {
          "base_uri": "https://localhost:8080/"
        },
        "id": "l7cyhUJGyQXL",
        "outputId": "1e8f1666-56c0-4565-a00f-bd057340db47"
      },
      "execution_count": null,
      "outputs": [
        {
          "output_type": "stream",
          "name": "stdout",
          "text": [
            "Blackbird singing in the dead of night\n",
            "Take these broken wings and learn to fly\n",
            "All your life\n",
            "You were only waiting for this moment to arise\n"
          ]
        }
      ]
    },
    {
      "cell_type": "code",
      "source": [
        "name  = \"dianne liberato\"\n",
        "print(name.capitalize())"
      ],
      "metadata": {
        "colab": {
          "base_uri": "https://localhost:8080/"
        },
        "outputId": "05c65d56-0b90-43ff-e017-4dc3c630c3af",
        "id": "-BtUt6nJupX8"
      },
      "execution_count": null,
      "outputs": [
        {
          "output_type": "stream",
          "name": "stdout",
          "text": [
            "Dianne liberato\n"
          ]
        }
      ]
    },
    {
      "cell_type": "markdown",
      "source": [
        "ARITHMETIC OPERATORS"
      ],
      "metadata": {
        "id": "QcxIYWpQw5SB"
      }
    },
    {
      "cell_type": "code",
      "source": [
        "x = 1\n",
        "y = 1\n",
        "z = x + y \n",
        "print(z)"
      ],
      "metadata": {
        "colab": {
          "base_uri": "https://localhost:8080/"
        },
        "id": "ADv72a_CuNGY",
        "outputId": "fece76db-64de-4ceb-d5ce-b9c004ea692c"
      },
      "execution_count": 1,
      "outputs": [
        {
          "output_type": "stream",
          "name": "stdout",
          "text": [
            "2\n"
          ]
        }
      ]
    },
    {
      "cell_type": "code",
      "source": [
        "x = 20\n",
        "y = 18\n",
        "z = x - y \n",
        "print(z)"
      ],
      "metadata": {
        "colab": {
          "base_uri": "https://localhost:8080/"
        },
        "id": "0WYs4pTFwVXG",
        "outputId": "9d1344b8-2087-47f6-89b7-b27c403b803f"
      },
      "execution_count": 2,
      "outputs": [
        {
          "output_type": "stream",
          "name": "stdout",
          "text": [
            "2\n"
          ]
        }
      ]
    },
    {
      "cell_type": "code",
      "source": [
        "x = 2\n",
        "y = 3\n",
        "z = x * y \n",
        "print(z)"
      ],
      "metadata": {
        "colab": {
          "base_uri": "https://localhost:8080/"
        },
        "id": "YL6lFUI-waq0",
        "outputId": "482a71f4-0ba0-4070-da37-f7e2992b1867"
      },
      "execution_count": 3,
      "outputs": [
        {
          "output_type": "stream",
          "name": "stdout",
          "text": [
            "6\n"
          ]
        }
      ]
    },
    {
      "cell_type": "code",
      "source": [
        "x = 129\n",
        "y = 2\n",
        "z = x / y \n",
        "print(z)"
      ],
      "metadata": {
        "colab": {
          "base_uri": "https://localhost:8080/"
        },
        "id": "wTdLqRAfwdqA",
        "outputId": "d92c0c97-0482-402b-9c86-ec5f386be3ce"
      },
      "execution_count": 4,
      "outputs": [
        {
          "output_type": "stream",
          "name": "stdout",
          "text": [
            "64.5\n"
          ]
        }
      ]
    }
  ]
}