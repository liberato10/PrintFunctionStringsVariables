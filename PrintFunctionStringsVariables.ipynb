{
  "nbformat": 4,
  "nbformat_minor": 0,
  "metadata": {
    "colab": {
      "name": "PrintFunctionStringsVariables.ipynb",
      "provenance": [],
      "authorship_tag": "ABX9TyMsHewNQStIT6Lh7K6FGW9D",
      "include_colab_link": true
    },
    "kernelspec": {
      "name": "python3",
      "display_name": "Python 3"
    },
    "language_info": {
      "name": "python"
    }
  },
  "cells": [
    {
      "cell_type": "markdown",
      "metadata": {
        "id": "view-in-github",
        "colab_type": "text"
      },
      "source": [
        "<a href=\"https://colab.research.google.com/github/liberato10/PrintFunctionStringsVariables/blob/main/PrintFunctionStringsVariables.ipynb\" target=\"_parent\"><img src=\"https://colab.research.google.com/assets/colab-badge.svg\" alt=\"Open In Colab\"/></a>"
      ]
    },
    {
      "cell_type": "markdown",
      "source": [
        "STRINGS AND VARIABLES"
      ],
      "metadata": {
        "id": "r--2xjVIwucx"
      }
    },
    {
      "cell_type": "code",
      "source": [
        "variable = (\"Hello World\")\n",
        "print(variable)"
      ],
      "metadata": {
        "colab": {
          "base_uri": "https://localhost:8080/"
        },
        "id": "qLqivWqisVtk",
        "outputId": "1599755c-c87b-4f4f-d2c3-202882f482bd"
      },
      "execution_count": 1,
      "outputs": [
        {
          "output_type": "stream",
          "name": "stdout",
          "text": [
            "Hello World\n"
          ]
        }
      ]
    },
    {
      "cell_type": "code",
      "source": [
        "name  = \"LIBERATO DIANNE C\"\n",
        "print(name)"
      ],
      "metadata": {
        "colab": {
          "base_uri": "https://localhost:8080/"
        },
        "id": "_OomZMAYs5wR",
        "outputId": "06cf0028-b337-4f2d-ae5e-fffc8dfcb777"
      },
      "execution_count": 3,
      "outputs": [
        {
          "output_type": "stream",
          "name": "stdout",
          "text": [
            "LIBERATO DIANNE C\n"
          ]
        }
      ]
    },
    {
      "cell_type": "code",
      "source": [
        "popularLyric  = \"\"\"Blackbird singing in the dead of night\n",
        "Take these broken wings and learn to fly\n",
        "All your life\n",
        "You were only waiting for this moment to arise\"\"\"\n",
        "print(popularLyric)"
      ],
      "metadata": {
        "colab": {
          "base_uri": "https://localhost:8080/"
        },
        "id": "l7cyhUJGyQXL",
        "outputId": "1e8f1666-56c0-4565-a00f-bd057340db47"
      },
      "execution_count": 14,
      "outputs": [
        {
          "output_type": "stream",
          "name": "stdout",
          "text": [
            "Blackbird singing in the dead of night\n",
            "Take these broken wings and learn to fly\n",
            "All your life\n",
            "You were only waiting for this moment to arise\n"
          ]
        }
      ]
    },
    {
      "cell_type": "code",
      "source": [
        "name  = \"dianne liberato\"\n",
        "print(name.capitalize())"
      ],
      "metadata": {
        "colab": {
          "base_uri": "https://localhost:8080/"
        },
        "outputId": "05c65d56-0b90-43ff-e017-4dc3c630c3af",
        "id": "-BtUt6nJupX8"
      },
      "execution_count": 8,
      "outputs": [
        {
          "output_type": "stream",
          "name": "stdout",
          "text": [
            "Dianne liberato\n"
          ]
        }
      ]
    },
    {
      "cell_type": "markdown",
      "source": [
        "ARITHMETIC OPERATORS"
      ],
      "metadata": {
        "id": "QcxIYWpQw5SB"
      }
    },
    {
      "cell_type": "code",
      "source": [
        "x = 31\n",
        "y = 10\n",
        "z = x + y \n",
        "print(z)"
      ],
      "metadata": {
        "colab": {
          "base_uri": "https://localhost:8080/"
        },
        "id": "ADv72a_CuNGY",
        "outputId": "cc114580-6bcd-4775-9f42-c6209e66b21a"
      },
      "execution_count": 9,
      "outputs": [
        {
          "output_type": "stream",
          "name": "stdout",
          "text": [
            "41\n"
          ]
        }
      ]
    },
    {
      "cell_type": "code",
      "source": [
        "x = 31\n",
        "y = 10\n",
        "z = x - y \n",
        "print(z)"
      ],
      "metadata": {
        "colab": {
          "base_uri": "https://localhost:8080/"
        },
        "id": "0WYs4pTFwVXG",
        "outputId": "6696b14d-cd7c-4ba6-a028-b5ec55e872a6"
      },
      "execution_count": 10,
      "outputs": [
        {
          "output_type": "stream",
          "name": "stdout",
          "text": [
            "21\n"
          ]
        }
      ]
    },
    {
      "cell_type": "code",
      "source": [
        "x = 31\n",
        "y = 10\n",
        "z = x * y \n",
        "print(z)"
      ],
      "metadata": {
        "colab": {
          "base_uri": "https://localhost:8080/"
        },
        "id": "YL6lFUI-waq0",
        "outputId": "ac391071-87c5-426e-f4a9-ec9816cf254a"
      },
      "execution_count": 11,
      "outputs": [
        {
          "output_type": "stream",
          "name": "stdout",
          "text": [
            "310\n"
          ]
        }
      ]
    },
    {
      "cell_type": "code",
      "source": [
        "x = 31\n",
        "y = 10\n",
        "z = x / y \n",
        "print(z)"
      ],
      "metadata": {
        "colab": {
          "base_uri": "https://localhost:8080/"
        },
        "id": "wTdLqRAfwdqA",
        "outputId": "2314ef8b-a063-4a7c-a3d5-c5bb7a98c807"
      },
      "execution_count": 12,
      "outputs": [
        {
          "output_type": "stream",
          "name": "stdout",
          "text": [
            "3.1\n"
          ]
        }
      ]
    }
  ]
}